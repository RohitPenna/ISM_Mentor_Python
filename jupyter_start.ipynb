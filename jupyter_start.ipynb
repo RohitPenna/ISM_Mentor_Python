{
 "cells": [
  {
   "cell_type": "code",
   "execution_count": 3,
   "id": "acd4c6ac",
   "metadata": {},
   "outputs": [],
   "source": [
    "# command mode: blue mode\n",
    "# edit mode: green mode\n",
    "# command mode -> edit mode: Press enter or click into cell\n",
    "# edit mode -> command mode: Press ESC\n",
    "\n",
    "# Ctrl + Enter can be used to execute the whole chunk of code in cell\n",
    "# You will see a chnage in [] when you execute any cell\n",
    "\n",
    "# Ctrl + Enter can execute code but cannot add or move to the next cell\n",
    "\n",
    "# while\n",
    "# shift + enter will execute code and move to next cell"
   ]
  },
  {
   "cell_type": "code",
   "execution_count": null,
   "id": "797fee45",
   "metadata": {},
   "outputs": [],
   "source": [
    "# add any cell above this cell, you can use 'a' -> command mode\n",
    "# add any cell below this cell, use 'b' -> only in command mode\n",
    "# 'dd' can be used delete a cell -> command mode"
   ]
  },
  {
   "cell_type": "markdown",
   "id": "7d567f38",
   "metadata": {},
   "source": [
    "# First Program"
   ]
  },
  {
   "cell_type": "code",
   "execution_count": 8,
   "id": "897662f3",
   "metadata": {},
   "outputs": [
    {
     "name": "stdout",
     "output_type": "stream",
     "text": [
      "This is my first program\n"
     ]
    }
   ],
   "source": [
    "print (\"This is my first program\")"
   ]
  },
  {
   "cell_type": "code",
   "execution_count": 9,
   "id": "cfeade39",
   "metadata": {},
   "outputs": [
    {
     "name": "stdout",
     "output_type": "stream",
     "text": [
      "This is my second line...\n"
     ]
    }
   ],
   "source": [
    "print (\"This is my second line...\")"
   ]
  },
  {
   "cell_type": "code",
   "execution_count": 10,
   "id": "65be3338",
   "metadata": {},
   "outputs": [
    {
     "name": "stdout",
     "output_type": "stream",
     "text": [
      "Now I will learn python\n"
     ]
    }
   ],
   "source": [
    "print (\"Now I will learn python\")"
   ]
  },
  {
   "cell_type": "code",
   "execution_count": 11,
   "id": "efeb3971",
   "metadata": {},
   "outputs": [],
   "source": [
    "# Hi \n",
    "# My name is rohit\n",
    "# Use 'ctrl +/'"
   ]
  },
  {
   "cell_type": "markdown",
   "id": "b28353ca",
   "metadata": {},
   "source": [
    "## Arithmetic Operations"
   ]
  },
  {
   "cell_type": "code",
   "execution_count": 12,
   "id": "a2505555",
   "metadata": {},
   "outputs": [
    {
     "data": {
      "text/plain": [
       "14"
      ]
     },
     "execution_count": 12,
     "metadata": {},
     "output_type": "execute_result"
    }
   ],
   "source": [
    "10 + 4"
   ]
  },
  {
   "cell_type": "code",
   "execution_count": 13,
   "id": "0fc0f4b0",
   "metadata": {},
   "outputs": [
    {
     "data": {
      "text/plain": [
       "34"
      ]
     },
     "execution_count": 13,
     "metadata": {},
     "output_type": "execute_result"
    }
   ],
   "source": [
    "10 + 7 + 8 + 9"
   ]
  },
  {
   "cell_type": "code",
   "execution_count": 14,
   "id": "dd7b2c21",
   "metadata": {},
   "outputs": [
    {
     "name": "stdout",
     "output_type": "stream",
     "text": [
      "3\n"
     ]
    }
   ],
   "source": [
    "print (10-7)"
   ]
  },
  {
   "cell_type": "code",
   "execution_count": 15,
   "id": "4f8e1df8",
   "metadata": {},
   "outputs": [
    {
     "data": {
      "text/plain": [
       "2.5"
      ]
     },
     "execution_count": 15,
     "metadata": {},
     "output_type": "execute_result"
    }
   ],
   "source": [
    "10/4"
   ]
  },
  {
   "cell_type": "code",
   "execution_count": 16,
   "id": "062ae0d3",
   "metadata": {},
   "outputs": [
    {
     "data": {
      "text/plain": [
       "2"
      ]
     },
     "execution_count": 16,
     "metadata": {},
     "output_type": "execute_result"
    }
   ],
   "source": [
    "10 // 4"
   ]
  },
  {
   "cell_type": "code",
   "execution_count": 17,
   "id": "a2d4f370",
   "metadata": {},
   "outputs": [
    {
     "data": {
      "text/plain": [
       "1"
      ]
     },
     "execution_count": 17,
     "metadata": {},
     "output_type": "execute_result"
    }
   ],
   "source": [
    "10 % 3"
   ]
  },
  {
   "cell_type": "code",
   "execution_count": 18,
   "id": "39d4b8d3",
   "metadata": {},
   "outputs": [
    {
     "data": {
      "text/plain": [
       "91"
      ]
     },
     "execution_count": 18,
     "metadata": {},
     "output_type": "execute_result"
    }
   ],
   "source": [
    "13 * 7"
   ]
  },
  {
   "cell_type": "code",
   "execution_count": 19,
   "id": "448dc881",
   "metadata": {},
   "outputs": [
    {
     "data": {
      "text/plain": [
       "8"
      ]
     },
     "execution_count": 19,
     "metadata": {},
     "output_type": "execute_result"
    }
   ],
   "source": [
    "2 ** 3"
   ]
  },
  {
   "cell_type": "code",
   "execution_count": 20,
   "id": "547cb111",
   "metadata": {},
   "outputs": [
    {
     "data": {
      "text/plain": [
       "16"
      ]
     },
     "execution_count": 20,
     "metadata": {},
     "output_type": "execute_result"
    }
   ],
   "source": [
    "2 ** 4"
   ]
  },
  {
   "cell_type": "code",
   "execution_count": 21,
   "id": "a85c6244",
   "metadata": {},
   "outputs": [
    {
     "data": {
      "text/plain": [
       "16"
      ]
     },
     "execution_count": 21,
     "metadata": {},
     "output_type": "execute_result"
    }
   ],
   "source": [
    "pow(2,4)"
   ]
  },
  {
   "cell_type": "code",
   "execution_count": 22,
   "id": "e48b550a",
   "metadata": {},
   "outputs": [],
   "source": [
    "# addition '+'\n",
    "# subtraction '-'\n",
    "# divsion (with decimal) '/'\n",
    "# division (round down) '//'\n",
    "# remainder '%'\n",
    "# multiplication '*'\n",
    "# exponential '** or pow()'"
   ]
  },
  {
   "cell_type": "markdown",
   "id": "28dc3a0c",
   "metadata": {},
   "source": [
    "## Variables"
   ]
  },
  {
   "cell_type": "code",
   "execution_count": 23,
   "id": "f09c9a83",
   "metadata": {},
   "outputs": [],
   "source": [
    "# Variable name can only start with a letter of '_'\n",
    "# Variable name should only contain numbers, letters, or '_'\n",
    "\n",
    "var = 10"
   ]
  },
  {
   "cell_type": "code",
   "execution_count": 24,
   "id": "2ff9bb0a",
   "metadata": {},
   "outputs": [
    {
     "data": {
      "text/plain": [
       "10"
      ]
     },
     "execution_count": 24,
     "metadata": {},
     "output_type": "execute_result"
    }
   ],
   "source": [
    "var"
   ]
  },
  {
   "cell_type": "code",
   "execution_count": 25,
   "id": "19b219a5",
   "metadata": {},
   "outputs": [],
   "source": [
    "var = 20"
   ]
  },
  {
   "cell_type": "code",
   "execution_count": 26,
   "id": "e9213440",
   "metadata": {},
   "outputs": [],
   "source": [
    "_var = 40"
   ]
  },
  {
   "cell_type": "code",
   "execution_count": 27,
   "id": "dc7b920a",
   "metadata": {},
   "outputs": [
    {
     "data": {
      "text/plain": [
       "60"
      ]
     },
     "execution_count": 27,
     "metadata": {},
     "output_type": "execute_result"
    }
   ],
   "source": [
    "var + _var"
   ]
  },
  {
   "cell_type": "code",
   "execution_count": 28,
   "id": "79ffe6a8",
   "metadata": {},
   "outputs": [
    {
     "data": {
      "text/plain": [
       "20"
      ]
     },
     "execution_count": 28,
     "metadata": {},
     "output_type": "execute_result"
    }
   ],
   "source": [
    "var + 10\n",
    "var"
   ]
  },
  {
   "cell_type": "code",
   "execution_count": 29,
   "id": "b46169ca",
   "metadata": {},
   "outputs": [
    {
     "data": {
      "text/plain": [
       "30"
      ]
     },
     "execution_count": 29,
     "metadata": {},
     "output_type": "execute_result"
    }
   ],
   "source": [
    "var + 10"
   ]
  },
  {
   "cell_type": "code",
   "execution_count": 30,
   "id": "dfb6acdf",
   "metadata": {},
   "outputs": [
    {
     "data": {
      "text/plain": [
       "10995116277760000000000000000000000000000000000000000"
      ]
     },
     "execution_count": 30,
     "metadata": {},
     "output_type": "execute_result"
    }
   ],
   "source": [
    "var ** _var"
   ]
  },
  {
   "cell_type": "markdown",
   "id": "3f731e5d",
   "metadata": {},
   "source": [
    "### Data Types"
   ]
  },
  {
   "cell_type": "code",
   "execution_count": 31,
   "id": "b23f2a34",
   "metadata": {},
   "outputs": [],
   "source": [
    "# integer -> 5, 10\n",
    "# float -> 5.5, 10.2\n",
    "# complex -> 3 + 4j, 2j (such as 'i' == sqrt(-1))\n",
    "# boolean -> true, false\n",
    "# string -> \"Hello\"\n",
    "# List - > [1,23,'Hello',True]\n",
    "# Tuple -> (1,2,3,'Hello', True)\n",
    "# Set -> {1,2,3,'Hello', True}\n",
    "# Dictionary -> {1:'Rohit', 2: 'rohit'}"
   ]
  },
  {
   "cell_type": "code",
   "execution_count": 32,
   "id": "7e9fcc5e",
   "metadata": {},
   "outputs": [],
   "source": [
    "x = 10"
   ]
  },
  {
   "cell_type": "code",
   "execution_count": 33,
   "id": "f9ce8770",
   "metadata": {},
   "outputs": [
    {
     "data": {
      "text/plain": [
       "int"
      ]
     },
     "execution_count": 33,
     "metadata": {},
     "output_type": "execute_result"
    }
   ],
   "source": [
    "type(x)"
   ]
  },
  {
   "cell_type": "code",
   "execution_count": 34,
   "id": "95ad0c30",
   "metadata": {},
   "outputs": [
    {
     "data": {
      "text/plain": [
       "str"
      ]
     },
     "execution_count": 34,
     "metadata": {},
     "output_type": "execute_result"
    }
   ],
   "source": [
    "x = \"10\"\n",
    "type(x)"
   ]
  },
  {
   "cell_type": "code",
   "execution_count": 35,
   "id": "e2aa67d7",
   "metadata": {},
   "outputs": [
    {
     "data": {
      "text/plain": [
       "complex"
      ]
     },
     "execution_count": 35,
     "metadata": {},
     "output_type": "execute_result"
    }
   ],
   "source": [
    "x = 10j\n",
    "type(x)"
   ]
  },
  {
   "cell_type": "code",
   "execution_count": 36,
   "id": "eea52fd7",
   "metadata": {},
   "outputs": [
    {
     "data": {
      "text/plain": [
       "bool"
      ]
     },
     "execution_count": 36,
     "metadata": {},
     "output_type": "execute_result"
    }
   ],
   "source": [
    "x = True\n",
    "type(x)"
   ]
  },
  {
   "cell_type": "code",
   "execution_count": 37,
   "id": "003d9f2d",
   "metadata": {},
   "outputs": [
    {
     "data": {
      "text/plain": [
       "list"
      ]
     },
     "execution_count": 37,
     "metadata": {},
     "output_type": "execute_result"
    }
   ],
   "source": [
    "x = [1,2,3, 'Hello', True]\n",
    "type(x)"
   ]
  },
  {
   "cell_type": "markdown",
   "id": "87ad62f8",
   "metadata": {},
   "source": [
    "### Type Casting"
   ]
  },
  {
   "cell_type": "code",
   "execution_count": 39,
   "id": "f9e9d50c",
   "metadata": {},
   "outputs": [],
   "source": [
    "x = \"10\""
   ]
  },
  {
   "cell_type": "code",
   "execution_count": 40,
   "id": "5abcec02",
   "metadata": {},
   "outputs": [
    {
     "data": {
      "text/plain": [
       "str"
      ]
     },
     "execution_count": 40,
     "metadata": {},
     "output_type": "execute_result"
    }
   ],
   "source": [
    "type(x)"
   ]
  },
  {
   "cell_type": "code",
   "execution_count": 41,
   "id": "8f71190a",
   "metadata": {},
   "outputs": [],
   "source": [
    "y = int(x)"
   ]
  },
  {
   "cell_type": "code",
   "execution_count": 42,
   "id": "991c34f0",
   "metadata": {},
   "outputs": [
    {
     "data": {
      "text/plain": [
       "10"
      ]
     },
     "execution_count": 42,
     "metadata": {},
     "output_type": "execute_result"
    }
   ],
   "source": [
    "y"
   ]
  },
  {
   "cell_type": "code",
   "execution_count": 43,
   "id": "e22aeacf",
   "metadata": {},
   "outputs": [
    {
     "data": {
      "text/plain": [
       "12"
      ]
     },
     "execution_count": 43,
     "metadata": {},
     "output_type": "execute_result"
    }
   ],
   "source": [
    "int('12')"
   ]
  },
  {
   "cell_type": "code",
   "execution_count": 44,
   "id": "26d5a91f",
   "metadata": {},
   "outputs": [
    {
     "data": {
      "text/plain": [
       "13"
      ]
     },
     "execution_count": 44,
     "metadata": {},
     "output_type": "execute_result"
    }
   ],
   "source": [
    "int(13.99)"
   ]
  },
  {
   "cell_type": "code",
   "execution_count": 45,
   "id": "075e5c98",
   "metadata": {},
   "outputs": [
    {
     "data": {
      "text/plain": [
       "14"
      ]
     },
     "execution_count": 45,
     "metadata": {},
     "output_type": "execute_result"
    }
   ],
   "source": [
    "int(14.01)"
   ]
  },
  {
   "cell_type": "code",
   "execution_count": 46,
   "id": "3d93ada0",
   "metadata": {},
   "outputs": [
    {
     "data": {
      "text/plain": [
       "12.0"
      ]
     },
     "execution_count": 46,
     "metadata": {},
     "output_type": "execute_result"
    }
   ],
   "source": [
    "float(12.0)"
   ]
  },
  {
   "cell_type": "code",
   "execution_count": 47,
   "id": "14383031",
   "metadata": {},
   "outputs": [
    {
     "data": {
      "text/plain": [
       "12.0"
      ]
     },
     "execution_count": 47,
     "metadata": {},
     "output_type": "execute_result"
    }
   ],
   "source": [
    "float(12)"
   ]
  },
  {
   "cell_type": "code",
   "execution_count": 48,
   "id": "d8322675",
   "metadata": {},
   "outputs": [
    {
     "data": {
      "text/plain": [
       "'12.245'"
      ]
     },
     "execution_count": 48,
     "metadata": {},
     "output_type": "execute_result"
    }
   ],
   "source": [
    "str(12.245)"
   ]
  },
  {
   "cell_type": "code",
   "execution_count": 50,
   "id": "c2511e60",
   "metadata": {},
   "outputs": [],
   "source": [
    "#float('Hello')"
   ]
  },
  {
   "cell_type": "code",
   "execution_count": 51,
   "id": "da3aaf6a",
   "metadata": {},
   "outputs": [
    {
     "data": {
      "text/plain": [
       "12"
      ]
     },
     "execution_count": 51,
     "metadata": {},
     "output_type": "execute_result"
    }
   ],
   "source": [
    "int(float('12.25'))"
   ]
  },
  {
   "cell_type": "markdown",
   "id": "091ce0f2",
   "metadata": {},
   "source": [
    "# User Input and Print Statements"
   ]
  },
  {
   "cell_type": "code",
   "execution_count": 53,
   "id": "0d65b354",
   "metadata": {},
   "outputs": [
    {
     "name": "stdout",
     "output_type": "stream",
     "text": [
      "10\n"
     ]
    },
    {
     "data": {
      "text/plain": [
       "'10'"
      ]
     },
     "execution_count": 53,
     "metadata": {},
     "output_type": "execute_result"
    }
   ],
   "source": [
    "input()"
   ]
  },
  {
   "cell_type": "code",
   "execution_count": 55,
   "id": "e4e2442d",
   "metadata": {},
   "outputs": [
    {
     "name": "stdout",
     "output_type": "stream",
     "text": [
      "Enter your age: 16\n"
     ]
    },
    {
     "data": {
      "text/plain": [
       "'16'"
      ]
     },
     "execution_count": 55,
     "metadata": {},
     "output_type": "execute_result"
    }
   ],
   "source": [
    "input(\"Enter your age: \")"
   ]
  },
  {
   "cell_type": "code",
   "execution_count": 56,
   "id": "f09e51d9",
   "metadata": {},
   "outputs": [
    {
     "name": "stdout",
     "output_type": "stream",
     "text": [
      "Enter your age: 16\n"
     ]
    }
   ],
   "source": [
    "x = input(\"Enter your age: \")"
   ]
  },
  {
   "cell_type": "code",
   "execution_count": 57,
   "id": "fbcd05a4",
   "metadata": {},
   "outputs": [],
   "source": [
    "x = int(x)"
   ]
  },
  {
   "cell_type": "code",
   "execution_count": 58,
   "id": "7d47c599",
   "metadata": {},
   "outputs": [
    {
     "data": {
      "text/plain": [
       "16"
      ]
     },
     "execution_count": 58,
     "metadata": {},
     "output_type": "execute_result"
    }
   ],
   "source": [
    "x"
   ]
  },
  {
   "cell_type": "code",
   "execution_count": 59,
   "id": "33fded5a",
   "metadata": {},
   "outputs": [],
   "source": [
    "x = float(x)"
   ]
  },
  {
   "cell_type": "code",
   "execution_count": 60,
   "id": "1fedc2e8",
   "metadata": {},
   "outputs": [
    {
     "data": {
      "text/plain": [
       "16.0"
      ]
     },
     "execution_count": 60,
     "metadata": {},
     "output_type": "execute_result"
    }
   ],
   "source": [
    "x"
   ]
  },
  {
   "cell_type": "code",
   "execution_count": 61,
   "id": "520469e3",
   "metadata": {},
   "outputs": [
    {
     "name": "stdout",
     "output_type": "stream",
     "text": [
      "16.0\n"
     ]
    }
   ],
   "source": [
    "print(x)"
   ]
  },
  {
   "cell_type": "code",
   "execution_count": 62,
   "id": "ce49a3d7",
   "metadata": {},
   "outputs": [
    {
     "name": "stdout",
     "output_type": "stream",
     "text": [
      "My age is  16.0\n"
     ]
    }
   ],
   "source": [
    "print(\"My age is \", x)"
   ]
  },
  {
   "cell_type": "code",
   "execution_count": 63,
   "id": "55a21559",
   "metadata": {},
   "outputs": [
    {
     "name": "stdout",
     "output_type": "stream",
     "text": [
      "My name is 16.0\n"
     ]
    }
   ],
   "source": [
    "print(\"My name is\", x)"
   ]
  },
  {
   "cell_type": "code",
   "execution_count": 64,
   "id": "f44524b4",
   "metadata": {},
   "outputs": [
    {
     "name": "stdout",
     "output_type": "stream",
     "text": [
      "My name is 16\n"
     ]
    }
   ],
   "source": [
    "print(\"My name is\", int(x))"
   ]
  },
  {
   "cell_type": "markdown",
   "id": "1836d4bb",
   "metadata": {},
   "source": [
    "### Formatting Print"
   ]
  },
  {
   "cell_type": "code",
   "execution_count": 67,
   "id": "f7cb5cbe",
   "metadata": {},
   "outputs": [
    {
     "name": "stdout",
     "output_type": "stream",
     "text": [
      "Enter your Age: 16\n"
     ]
    }
   ],
   "source": [
    "x = input(\"Enter your Age: \")"
   ]
  },
  {
   "cell_type": "code",
   "execution_count": 68,
   "id": "f49824fc",
   "metadata": {},
   "outputs": [],
   "source": [
    "x = int(x)\n",
    "y = x + 30"
   ]
  },
  {
   "cell_type": "code",
   "execution_count": 69,
   "id": "f6e2d116",
   "metadata": {},
   "outputs": [
    {
     "name": "stdout",
     "output_type": "stream",
     "text": [
      "Sam is 16 years old and his father is 46 years old\n"
     ]
    }
   ],
   "source": [
    "print(\"Sam is\", x, \"years old and his father is\",y, \"years old\")"
   ]
  },
  {
   "cell_type": "code",
   "execution_count": 71,
   "id": "96e541e5",
   "metadata": {},
   "outputs": [
    {
     "name": "stdout",
     "output_type": "stream",
     "text": [
      "Sam is 16 years old and his father is 46 years old\n"
     ]
    }
   ],
   "source": [
    "print(\"Sam is {a} years old and his father is {b} years old\".format(a = x, b = y))"
   ]
  },
  {
   "cell_type": "code",
   "execution_count": 73,
   "id": "f1dd63fe",
   "metadata": {},
   "outputs": [
    {
     "name": "stdout",
     "output_type": "stream",
     "text": [
      "Sam is 16 years old and his father is 46 years old\n"
     ]
    }
   ],
   "source": [
    "print(\"Sam is {0} years old and his father is {1} years old\".format(x,y))\n",
    "# number in bracket is index"
   ]
  },
  {
   "cell_type": "code",
   "execution_count": 74,
   "id": "162ff4af",
   "metadata": {},
   "outputs": [
    {
     "name": "stdout",
     "output_type": "stream",
     "text": [
      "Sam is 16 years old and his father is 46 years old\n"
     ]
    }
   ],
   "source": [
    "# automatically considers in ascending order\n",
    "print(\"Sam is {} years old and his father is {} years old\".format(x,y))"
   ]
  },
  {
   "cell_type": "markdown",
   "id": "9b662828",
   "metadata": {},
   "source": [
    "# Relational Operators"
   ]
  },
  {
   "cell_type": "code",
   "execution_count": 3,
   "id": "db40083e",
   "metadata": {},
   "outputs": [],
   "source": [
    "# For it to be true both conditions need to be true unless it's |\n",
    "# One false makes entire thing false\n",
    "# True = 1\n",
    "# False = 0"
   ]
  },
  {
   "cell_type": "markdown",
   "id": "fe441c23",
   "metadata": {},
   "source": [
    "# If and Else Statements"
   ]
  },
  {
   "cell_type": "code",
   "execution_count": null,
   "id": "899f0c31",
   "metadata": {},
   "outputs": [],
   "source": [
    "# if (Statement):\n",
    "# elif (statement):\n",
    "# else"
   ]
  }
 ],
 "metadata": {
  "kernelspec": {
   "display_name": "Python 3 (ipykernel)",
   "language": "python",
   "name": "python3"
  },
  "language_info": {
   "codemirror_mode": {
    "name": "ipython",
    "version": 3
   },
   "file_extension": ".py",
   "mimetype": "text/x-python",
   "name": "python",
   "nbconvert_exporter": "python",
   "pygments_lexer": "ipython3",
   "version": "3.11.2"
  }
 },
 "nbformat": 4,
 "nbformat_minor": 5
}
